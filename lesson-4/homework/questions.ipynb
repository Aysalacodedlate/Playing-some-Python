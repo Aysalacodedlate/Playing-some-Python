{
 "cells": [
  {
   "cell_type": "markdown",
   "metadata": {},
   "source": [
    "2.  What is the difference between the continue and break statements in Python?\n",
    "\n",
    "Well, basically there are 3 statements of loop controlling. Say, break statement, continue statement and pass statement. When the break statement is executed, the program immediately exits the loop, and the control moves to the next line of code after the loop. When the continue statement is executed in the loop, the code inside the loop following the continue statement will be skipped for the current iteration and the next iteration of the loop will begin. Pass is used when a statement is syntactically required but we don’t want to execute any code. It does nothing but allows us to maintain the structure of our program.\n",
    "\n",
    "\n"
   ]
  },
  {
   "cell_type": "markdown",
   "metadata": {},
   "source": [
    "3. Can you explain the difference between for loop and while loop?\n",
    "\n",
    "Easy, one is used when you are sure about the number of the blocks you want to execute, and the other (while loop) is used when you don't know. \n"
   ]
  },
  {
   "cell_type": "markdown",
   "metadata": {},
   "source": [
    "4. How would you implement a nested for loop system? Provide an example.\n",
    "\n",
    "So basically, nested loop means a loop inside another loop. Implementations simply goes as implementing the first loop, and then the inner loop will iteate.\n",
    "\n",
    "Masalan: \n",
    "x = [12, 13, 14, 15, 16]\n",
    "y = [2, 3, 4, 5, 6]\n",
    "\n",
    "for a in x:\n",
    "  for b in y:\n",
    "    print(a, b)\n",
    "\n"
   ]
  }
 ],
 "metadata": {
  "language_info": {
   "name": "python"
  }
 },
 "nbformat": 4,
 "nbformat_minor": 2
}
